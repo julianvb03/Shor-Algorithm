{
 "cells": [
  {
   "cell_type": "code",
   "execution_count": 46,
   "id": "c29dbf30",
   "metadata": {},
   "outputs": [],
   "source": [
    "import os\n",
    "import numpy as np\n",
    "import qiskit\n",
    "import math\n",
    "import matplotlib.pyplot as plt\n",
    "\n",
    "from qiskit_aer import AerSimulator\n",
    "from qiskit.visualization import plot_histogram\n",
    "from qiskit_ibm_runtime import QiskitRuntimeService\n",
    "from dotenv import load_dotenv\n",
    "\n",
    "load_dotenv()\n",
    "IBM_API_TOKEN = os.getenv(\"IBM_API_TOKEN\")"
   ]
  },
  {
   "cell_type": "code",
   "execution_count": 24,
   "id": "f63bfa7c",
   "metadata": {},
   "outputs": [],
   "source": [
    "N = int(input(\"Ingrese un número que se pueda descomponer en 2 factores primos: \"))\n",
    "lim_inf = 2\n",
    "lim_sup = N - 2\n",
    "qubit_number = int(np.ceil(np.log2(N + 1))) if N > 0 else 1"
   ]
  },
  {
   "cell_type": "code",
   "execution_count": null,
   "id": "adaf25fd",
   "metadata": {},
   "outputs": [],
   "source": [
    "def QFT(N: int):\n",
    "    \"\"\"Transformada de Fourier Cuántica para N qubits.\"\"\"\n",
    "    circuit = qiskit.QuantumCircuit(N)\n",
    "    for i in range(N-1, -1, -1):\n",
    "        circuit.h(i)\n",
    "        for j in range(i-1, -1, -1):\n",
    "            theta = math.pi / (2 ** (i - j))\n",
    "            circuit.cp(theta, j, i)\n",
    "    \n",
    "    for i in range(N // 2):\n",
    "        circuit.swap(i, N - i - 1)\n",
    "\n",
    "    compuert = circuit.to_gate()\n",
    "    compuert.name = \"QFT\"\n",
    "    return compuert\n"
   ]
  },
  {
   "cell_type": "code",
   "execution_count": 34,
   "id": "fdc437ca",
   "metadata": {},
   "outputs": [
    {
     "data": {
      "text/html": [
       "<pre style=\"word-wrap: normal;white-space: pre;background: #fff0;line-height: 1.1;font-family: &quot;Courier New&quot;,Courier,monospace\">     ┌───┐┌──────┐\n",
       "q_0: ┤ H ├┤0     ├\n",
       "     ├───┤│      │\n",
       "q_1: ┤ H ├┤1     ├\n",
       "     ├───┤│  QFT │\n",
       "q_2: ┤ H ├┤2     ├\n",
       "     ├───┤│      │\n",
       "q_3: ┤ H ├┤3     ├\n",
       "     └───┘└──────┘</pre>"
      ],
      "text/plain": [
       "     ┌───┐┌──────┐\n",
       "q_0: ┤ H ├┤0     ├\n",
       "     ├───┤│      │\n",
       "q_1: ┤ H ├┤1     ├\n",
       "     ├───┤│  QFT │\n",
       "q_2: ┤ H ├┤2     ├\n",
       "     ├───┤│      │\n",
       "q_3: ┤ H ├┤3     ├\n",
       "     └───┘└──────┘"
      ]
     },
     "execution_count": 34,
     "metadata": {},
     "output_type": "execute_result"
    }
   ],
   "source": [
    "circuit = qiskit.QuantumCircuit(4)\n",
    "circuit.h(range(4))\n",
    "circuit.append(QFT(4), range(4))\n",
    "circuit.draw()"
   ]
  },
  {
   "cell_type": "code",
   "execution_count": null,
   "id": "48d6fdda",
   "metadata": {},
   "outputs": [
    {
     "name": "stderr",
     "output_type": "stream",
     "text": [
      "/tmp/ipykernel_2831/3788642992.py:1: DeprecationWarning: The \"ibm_quantum\" channel option is deprecated and will be sunset on 1 July. After this date, \"ibm_cloud\" and \"local\" will be the only valid channels. For information on migrating to the new IBM Quantum Platform on the \"ibm_cloud\" channel, review the migration guide https://quantum.cloud.ibm.com/docs/migration-guides/classic-iqp-to-cloud-iqp .\n",
      "  service = QiskitRuntimeService(channel=\"ibm_quantum\", token=IBM_API_TOKEN)\n"
     ]
    },
    {
     "name": "stdout",
     "output_type": "stream",
     "text": [
      "- ibm_brisbane\n",
      "- ibm_sherbrooke\n"
     ]
    }
   ],
   "source": [
    "# service = QiskitRuntimeService(channel=\"ibm_quantum\", token=IBM_API_TOKEN)\n",
    "# backends = service.backends()\n",
    "# for backend in backends:\n",
    "#     print(f\"- {backend.name}\")"
   ]
  }
 ],
 "metadata": {
  "kernelspec": {
   "display_name": "venv",
   "language": "python",
   "name": "python3"
  },
  "language_info": {
   "codemirror_mode": {
    "name": "ipython",
    "version": 3
   },
   "file_extension": ".py",
   "mimetype": "text/x-python",
   "name": "python",
   "nbconvert_exporter": "python",
   "pygments_lexer": "ipython3",
   "version": "3.12.5"
  }
 },
 "nbformat": 4,
 "nbformat_minor": 5
}
