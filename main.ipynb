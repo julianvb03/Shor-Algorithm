{
 "cells": [
  {
   "cell_type": "markdown",
   "id": "019c6ea8",
   "metadata": {},
   "source": [
    "### Versión funcional del [`algoritmo de shor`](https://github.com/qiskit-community/qiskit-community-tutorials/blob/master/algorithms/shor_algorithm.ipynb) en la versión actual\n",
    "Se hicieron cambios en la estructura del codigo para dejarlo en funcionando en la versión de qiskit 2.0.2, que era lo requerido en la entrega, principalmente en las importaciones, como transpile que ahora esta en el modulo principal, también para adaptarase a cambios como el de la compuerta u1."
   ]
  },
  {
   "cell_type": "code",
   "execution_count": 69,
   "id": "b20cc4c2",
   "metadata": {},
   "outputs": [],
   "source": [
    "import math\n",
    "\n",
    "import pandas as pd\n",
    "import numpy as np\n",
    "import random\n",
    "\n",
    "from qiskit_aer import AerSimulator\n",
    "from qiskit import QuantumCircuit, ClassicalRegister, QuantumRegister, transpile\n",
    "from qiskit.visualization import plot_histogram\n",
    "from qiskit.quantum_info import Operator\n",
    "\n",
    "from math import gcd\n",
    "from fractions import Fraction"
   ]
  },
  {
   "cell_type": "code",
   "execution_count": 78,
   "id": "028205e9",
   "metadata": {},
   "outputs": [
    {
     "name": "stdout",
     "output_type": "stream",
     "text": [
      "2.0.2\n"
     ]
    }
   ],
   "source": [
    "import qiskit\n",
    "print(qiskit.__version__)"
   ]
  },
  {
   "cell_type": "code",
   "execution_count": 92,
   "id": "a0665282",
   "metadata": {},
   "outputs": [],
   "source": [
    "def circuit_amod15(qc,qr,cr,a):\n",
    "    if a == 2:\n",
    "        qc.cswap(qr[4],qr[3],qr[2])\n",
    "        qc.cswap(qr[4],qr[2],qr[1])\n",
    "        qc.cswap(qr[4],qr[1],qr[0])\n",
    "    elif a == 7:\n",
    "        qc.cswap(qr[4],qr[1],qr[0])\n",
    "        qc.cswap(qr[4],qr[2],qr[1])\n",
    "        qc.cswap(qr[4],qr[3],qr[2])\n",
    "        qc.cx(qr[4],qr[3])\n",
    "        qc.cx(qr[4],qr[2])\n",
    "        qc.cx(qr[4],qr[1])\n",
    "        qc.cx(qr[4],qr[0])\n",
    "    elif a == 8:\n",
    "        qc.cswap(qr[4],qr[1],qr[0])\n",
    "        qc.cswap(qr[4],qr[2],qr[1])\n",
    "        qc.cswap(qr[4],qr[3],qr[2])\n",
    "    elif a == 11:\n",
    "        qc.cswap(qr[4],qr[2],qr[0])\n",
    "        qc.cswap(qr[4],qr[3],qr[1])\n",
    "        qc.cx(qr[4],qr[3])\n",
    "        qc.cx(qr[4],qr[2])\n",
    "        qc.cx(qr[4],qr[1])\n",
    "        qc.cx(qr[4],qr[0])\n",
    "    elif a == 13:\n",
    "        qc.cswap(qr[4],qr[3],qr[2])\n",
    "        qc.cswap(qr[4],qr[2],qr[1])\n",
    "        qc.cswap(qr[4],qr[1],qr[0])\n",
    "        qc.cx(qr[4],qr[3])\n",
    "        qc.cx(qr[4],qr[2])\n",
    "        qc.cx(qr[4],qr[1])\n",
    "        qc.cx(qr[4],qr[0])"
   ]
  },
  {
   "cell_type": "code",
   "execution_count": 93,
   "id": "ec2a6200",
   "metadata": {},
   "outputs": [],
   "source": [
    "def circuit_aperiod15(qc, qr, cr, a):\n",
    "    qc.x(qr[0])\n",
    "    \n",
    "    qc.h(qr[4])\n",
    "    qc.h(qr[4])\n",
    "    qc.measure(qr[4], cr[0])\n",
    "    qc.reset(qr[4])\n",
    "    \n",
    "    qc.h(qr[4])\n",
    "    qc.cx(qr[4], qr[2])\n",
    "    qc.cx(qr[4], qr[0])\n",
    "\n",
    "    # https://docs-quantum-ibm-com.translate.goog/api/qiskit/qiskit.circuit.library.U1Gate?_x_tr_sl=en&_x_tr_tl=es&_x_tr_hl=es&_x_tr_pto=tc&_x_tr_hist=true\n",
    "    qc.p(math.pi/2.0, qr[4])\n",
    "    qc.if_test((cr, 1), None)\n",
    "    \n",
    "    qc.h(qr[4])\n",
    "    qc.measure(qr[4], cr[1])\n",
    "    qc.reset(qr[4])\n",
    "    \n",
    "    qc.h(qr[4])\n",
    "    circuit_amod15(qc, qr, cr, a)\n",
    "    \n",
    "    qc.p(3.*math.pi/4., qr[4])\n",
    "    qc.if_test((cr, 3), None)\n",
    "    \n",
    "    qc.p(math.pi/2., qr[4])\n",
    "    qc.if_test((cr, 2), None)\n",
    "    \n",
    "    qc.p(math.pi/4., qr[4])\n",
    "    qc.if_test((cr, 1), None)\n",
    "    \n",
    "    qc.h(qr[4])\n",
    "    qc.measure(qr[4], cr[2])"
   ]
  },
  {
   "cell_type": "code",
   "execution_count": 151,
   "id": "3fd21979",
   "metadata": {},
   "outputs": [],
   "source": [
    "def get_factors(measured_phases, a, N=15):\n",
    "    factors_found = []\n",
    "    \n",
    "    for phase in measured_phases:\n",
    "        frac = Fraction(phase).limit_denominator(N)\n",
    "        r = frac.denominator\n",
    "        \n",
    "        if r % 2 == 0:\n",
    "            guesses = [gcd(a**(r//2) - 1, N), gcd(a**(r//2) + 1, N)]\n",
    "            \n",
    "            for guess in guesses:\n",
    "                if guess not in [1, N] and guess not in factors_found:\n",
    "                    if N % guess == 0:\n",
    "                        factors_found.append(guess)\n",
    "                        factors_found.append(N // guess)\n",
    "    \n",
    "    factors_found = sorted(list(set(factors_found)))\n",
    "    \n",
    "    return factors_found"
   ]
  },
  {
   "cell_type": "code",
   "execution_count": 95,
   "id": "df55c67f",
   "metadata": {},
   "outputs": [
    {
     "data": {
      "text/html": [
       "<pre style=\"word-wrap: normal;white-space: pre;background: #fff0;line-height: 1.1;font-family: &quot;Courier New&quot;,Courier,monospace\">     ┌───┐                       ┌───┐                                                    ┌───┐                                       \n",
       "q_0: ┤ X ├───────────────────────┤ X ├─────────────────────────────X──────────────────────┤ X ├───────────────────────────────────────\n",
       "     └───┘                       └─┬─┘                             │                 ┌───┐└─┬─┘                                       \n",
       "q_1: ──────────────────────────────┼───────────────────────────────X──X──────────────┤ X ├──┼─────────────────────────────────────────\n",
       "                            ┌───┐  │                               │  │         ┌───┐└─┬─┘  │                                         \n",
       "q_2: ───────────────────────┤ X ├──┼───────────────────────────────┼──X──X──────┤ X ├──┼────┼─────────────────────────────────────────\n",
       "                            └─┬─┘  │                               │  │  │ ┌───┐└─┬─┘  │    │                                         \n",
       "q_3: ─────────────────────────┼────┼───────────────────────────────┼──┼──X─┤ X ├──┼────┼────┼─────────────────────────────────────────\n",
       "     ┌───┐┌───┐┌─┐     ┌───┐  │    │  ┌────────┐┌───┐┌─┐     ┌───┐ │  │  │ └─┬─┘  │    │    │  ┌─────────┐┌────────┐┌────────┐┌───┐┌─┐\n",
       "q_4: ┤ H ├┤ H ├┤M├─|0>─┤ H ├──■────■──┤ P(π/2) ├┤ H ├┤M├─|0>─┤ H ├─■──■──■───■────■────■────■──┤ P(3π/4) ├┤ P(π/2) ├┤ P(π/4) ├┤ H ├┤M├\n",
       "     └───┘└───┘└╥┘     └───┘          └────────┘└───┘└╥┘     └───┘                             └─────────┘└────────┘└────────┘└───┘└╥┘\n",
       "c: 5/═══════════╩═════════════════════════════════════╩═════════════════════════════════════════════════════════════════════════════╩═\n",
       "                0                                     1                                                                             2 </pre>"
      ],
      "text/plain": [
       "     ┌───┐                       ┌───┐                                                    ┌───┐                                       \n",
       "q_0: ┤ X ├───────────────────────┤ X ├─────────────────────────────X──────────────────────┤ X ├───────────────────────────────────────\n",
       "     └───┘                       └─┬─┘                             │                 ┌───┐└─┬─┘                                       \n",
       "q_1: ──────────────────────────────┼───────────────────────────────X──X──────────────┤ X ├──┼─────────────────────────────────────────\n",
       "                            ┌───┐  │                               │  │         ┌───┐└─┬─┘  │                                         \n",
       "q_2: ───────────────────────┤ X ├──┼───────────────────────────────┼──X──X──────┤ X ├──┼────┼─────────────────────────────────────────\n",
       "                            └─┬─┘  │                               │  │  │ ┌───┐└─┬─┘  │    │                                         \n",
       "q_3: ─────────────────────────┼────┼───────────────────────────────┼──┼──X─┤ X ├──┼────┼────┼─────────────────────────────────────────\n",
       "     ┌───┐┌───┐┌─┐     ┌───┐  │    │  ┌────────┐┌───┐┌─┐     ┌───┐ │  │  │ └─┬─┘  │    │    │  ┌─────────┐┌────────┐┌────────┐┌───┐┌─┐\n",
       "q_4: ┤ H ├┤ H ├┤M├─|0>─┤ H ├──■────■──┤ P(π/2) ├┤ H ├┤M├─|0>─┤ H ├─■──■──■───■────■────■────■──┤ P(3π/4) ├┤ P(π/2) ├┤ P(π/4) ├┤ H ├┤M├\n",
       "     └───┘└───┘└╥┘     └───┘          └────────┘└───┘└╥┘     └───┘                             └─────────┘└────────┘└────────┘└───┘└╥┘\n",
       "c: 5/═══════════╩═════════════════════════════════════╩═════════════════════════════════════════════════════════════════════════════╩═\n",
       "                0                                     1                                                                             2 "
      ]
     },
     "execution_count": 95,
     "metadata": {},
     "output_type": "execute_result"
    }
   ],
   "source": [
    "q = QuantumRegister(5, 'q')\n",
    "c = ClassicalRegister(5, 'c')\n",
    "\n",
    "a = 7\n",
    "\n",
    "shor = QuantumCircuit(q, c)\n",
    "circuit_aperiod15(shor, q, c, a)\n",
    "\n",
    "shor.draw(fold=-1)"
   ]
  },
  {
   "cell_type": "code",
   "execution_count": 96,
   "id": "50033016",
   "metadata": {},
   "outputs": [
    {
     "data": {
      "image/png": "[encoded data removed]",
      "text/plain": [
       "<Figure size 640x480 with 1 Axes>"
      ]
     },
     "execution_count": 96,
     "metadata": {},
     "output_type": "execute_result"
    }
   ],
   "source": [
    "N_COUNT = 3\n",
    "\n",
    "simulator = AerSimulator()\n",
    "t_shor = transpile(shor, simulator)\n",
    "counts = simulator.run(t_shor).result().get_counts()\n",
    "plot_histogram(counts)"
   ]
  },
  {
   "cell_type": "code",
   "execution_count": 97,
   "id": "dbae27b4",
   "metadata": {},
   "outputs": [
    {
     "name": "stdout",
     "output_type": "stream",
     "text": [
      "         Register Output       Phase\n",
      "0  00100(bin) =   4(dec)  4/8 = 0.50\n",
      "1  00000(bin) =   0(dec)  0/8 = 0.00\n",
      "2  00010(bin) =   2(dec)  2/8 = 0.25\n",
      "3  00110(bin) =   6(dec)  6/8 = 0.75\n"
     ]
    }
   ],
   "source": [
    "rows, measured_phases = [], []\n",
    "for output in counts:\n",
    "    decimal = int(output, 2)\n",
    "    phase = decimal/(2**N_COUNT)\n",
    "    measured_phases.append(phase)\n",
    "    rows.append([f\"{output}(bin) = {decimal:>3}(dec)\",\n",
    "                 f\"{decimal}/{2**N_COUNT} = {phase:.2f}\"])\n",
    "headers=[\"Register Output\", \"Phase\"]\n",
    "df = pd.DataFrame(rows, columns=headers)\n",
    "print(df)"
   ]
  },
  {
   "cell_type": "code",
   "execution_count": 98,
   "id": "1711d016",
   "metadata": {},
   "outputs": [
    {
     "name": "stdout",
     "output_type": "stream",
     "text": [
      "Factor: 3\n",
      "Factor: 5\n"
     ]
    }
   ],
   "source": [
    "factors = get_factors(measured_phases, a, N=15)\n",
    "\n",
    "if factors:\n",
    "    product = 1\n",
    "    for factor in factors:\n",
    "        product *= factor\n",
    "        print(f\"Factor: {factor}\")"
   ]
  },
  {
   "cell_type": "markdown",
   "id": "d6f6cb2e",
   "metadata": {},
   "source": [
    "### Versión adicional del [`algoritmo de shor`](https://github.com/Qiskit/textbook/blob/main/notebooks/ch-algorithms/shor.ipynb)\n",
    "Adicionalmente y para el posterior intento de implementación general, hay una implementación del algoritmo que me parece mucho más clara y más entendible para mi, ya que es esta la que encontre y entendí en videos y otras fuentes de información, la cual está acontinuación."
   ]
  },
  {
   "cell_type": "code",
   "execution_count": 62,
   "id": "bd413242",
   "metadata": {},
   "outputs": [],
   "source": [
    "# Esta versión seguira dependiendo del N especifico, en este caso 15\n",
    "def c_amod15(a, power):\n",
    "    \"\"\"Controlled multiplication by a mod 15\"\"\"\n",
    "    if a not in [2,4,7,8,11,13]:\n",
    "        raise ValueError(\"'a' must be 2,4,7,8,11 or 13\")\n",
    "    U = QuantumCircuit(4)\n",
    "    for _iteration in range(power):\n",
    "        if a in [2,13]:\n",
    "            U.swap(2,3)\n",
    "            U.swap(1,2)\n",
    "            U.swap(0,1)\n",
    "        if a in [7,8]:\n",
    "            U.swap(0,1)\n",
    "            U.swap(1,2)\n",
    "            U.swap(2,3)\n",
    "        if a in [4, 11]:\n",
    "            U.swap(1,3)\n",
    "            U.swap(0,2)\n",
    "        if a in [7,11,13]:\n",
    "            for q in range(4):\n",
    "                U.x(q)\n",
    "    U = U.to_gate()\n",
    "    U.name = f\"{a}^{power} mod 15\"\n",
    "    c_U = U.control()\n",
    "    return c_U"
   ]
  },
  {
   "cell_type": "code",
   "execution_count": null,
   "id": "5bb8edcc",
   "metadata": {},
   "outputs": [],
   "source": [
    "def qft_dagger(n):\n",
    "    qc = QuantumCircuit(n)\n",
    "    for qubit in range(n//2):\n",
    "        qc.swap(qubit, n-qubit-1)\n",
    "    for j in range(n):\n",
    "        for m in range(j):\n",
    "            qc.cp(-np.pi/float(2**(j-m)), m, j)\n",
    "        qc.h(j)\n",
    "    qc.name = \"QFT†\"\n",
    "    return qc"
   ]
  },
  {
   "cell_type": "code",
   "execution_count": 64,
   "id": "6b054b7e",
   "metadata": {},
   "outputs": [
    {
     "data": {
      "text/html": [
       "<pre style=\"word-wrap: normal;white-space: pre;background: #fff0;line-height: 1.1;font-family: &quot;Courier New&quot;,Courier,monospace\">      ┌───┐                                                                                                                             ┌───────┐┌─┐                     \n",
       " q_0: ┤ H ├───────■─────────────────────────────────────────────────────────────────────────────────────────────────────────────────────┤0      ├┤M├─────────────────────\n",
       "      ├───┤       │                                                                                                                     │       │└╥┘┌─┐                  \n",
       " q_1: ┤ H ├───────┼──────────────■──────────────────────────────────────────────────────────────────────────────────────────────────────┤1      ├─╫─┤M├──────────────────\n",
       "      ├───┤       │              │                                                                                                      │       │ ║ └╥┘┌─┐               \n",
       " q_2: ┤ H ├───────┼──────────────┼──────────────■───────────────────────────────────────────────────────────────────────────────────────┤2      ├─╫──╫─┤M├───────────────\n",
       "      ├───┤       │              │              │                                                                                       │       │ ║  ║ └╥┘┌─┐            \n",
       " q_3: ┤ H ├───────┼──────────────┼──────────────┼──────────────■────────────────────────────────────────────────────────────────────────┤3      ├─╫──╫──╫─┤M├────────────\n",
       "      ├───┤       │              │              │              │                                                                        │  QFT† │ ║  ║  ║ └╥┘┌─┐         \n",
       " q_4: ┤ H ├───────┼──────────────┼──────────────┼──────────────┼──────────────■─────────────────────────────────────────────────────────┤4      ├─╫──╫──╫──╫─┤M├─────────\n",
       "      ├───┤       │              │              │              │              │                                                         │       │ ║  ║  ║  ║ └╥┘┌─┐      \n",
       " q_5: ┤ H ├───────┼──────────────┼──────────────┼──────────────┼──────────────┼───────────────■─────────────────────────────────────────┤5      ├─╫──╫──╫──╫──╫─┤M├──────\n",
       "      ├───┤       │              │              │              │              │               │                                         │       │ ║  ║  ║  ║  ║ └╥┘┌─┐   \n",
       " q_6: ┤ H ├───────┼──────────────┼──────────────┼──────────────┼──────────────┼───────────────┼───────────────■─────────────────────────┤6      ├─╫──╫──╫──╫──╫──╫─┤M├───\n",
       "      ├───┤       │              │              │              │              │               │               │                         │       │ ║  ║  ║  ║  ║  ║ └╥┘┌─┐\n",
       " q_7: ┤ H ├───────┼──────────────┼──────────────┼──────────────┼──────────────┼───────────────┼───────────────┼────────────────■────────┤7      ├─╫──╫──╫──╫──╫──╫──╫─┤M├\n",
       "      ├───┤┌──────┴──────┐┌──────┴──────┐┌──────┴──────┐┌──────┴──────┐┌──────┴───────┐┌──────┴───────┐┌──────┴───────┐┌───────┴───────┐└───────┘ ║  ║  ║  ║  ║  ║  ║ └╥┘\n",
       " q_8: ┤ X ├┤0            ├┤0            ├┤0            ├┤0            ├┤0             ├┤0             ├┤0             ├┤0              ├──────────╫──╫──╫──╫──╫──╫──╫──╫─\n",
       "      └───┘│             ││             ││             ││             ││              ││              ││              ││               │          ║  ║  ║  ║  ║  ║  ║  ║ \n",
       " q_9: ─────┤1            ├┤1            ├┤1            ├┤1            ├┤1             ├┤1             ├┤1             ├┤1              ├──────────╫──╫──╫──╫──╫──╫──╫──╫─\n",
       "           │  7^1 mod 15 ││  7^2 mod 15 ││  7^4 mod 15 ││  7^8 mod 15 ││  7^16 mod 15 ││  7^32 mod 15 ││  7^64 mod 15 ││  7^128 mod 15 │          ║  ║  ║  ║  ║  ║  ║  ║ \n",
       "q_10: ─────┤2            ├┤2            ├┤2            ├┤2            ├┤2             ├┤2             ├┤2             ├┤2              ├──────────╫──╫──╫──╫──╫──╫──╫──╫─\n",
       "           │             ││             ││             ││             ││              ││              ││              ││               │          ║  ║  ║  ║  ║  ║  ║  ║ \n",
       "q_11: ─────┤3            ├┤3            ├┤3            ├┤3            ├┤3             ├┤3             ├┤3             ├┤3              ├──────────╫──╫──╫──╫──╫──╫──╫──╫─\n",
       "           └─────────────┘└─────────────┘└─────────────┘└─────────────┘└──────────────┘└──────────────┘└──────────────┘└───────────────┘          ║  ║  ║  ║  ║  ║  ║  ║ \n",
       " c: 8/════════════════════════════════════════════════════════════════════════════════════════════════════════════════════════════════════════════╩══╩══╩══╩══╩══╩══╩══╩═\n",
       "                                                                                                                                                  0  1  2  3  4  5  6  7 </pre>"
      ],
      "text/plain": [
       "      ┌───┐                                                                                                                             ┌───────┐┌─┐                     \n",
       " q_0: ┤ H ├───────■─────────────────────────────────────────────────────────────────────────────────────────────────────────────────────┤0      ├┤M├─────────────────────\n",
       "      ├───┤       │                                                                                                                     │       │└╥┘┌─┐                  \n",
       " q_1: ┤ H ├───────┼──────────────■──────────────────────────────────────────────────────────────────────────────────────────────────────┤1      ├─╫─┤M├──────────────────\n",
       "      ├───┤       │              │                                                                                                      │       │ ║ └╥┘┌─┐               \n",
       " q_2: ┤ H ├───────┼──────────────┼──────────────■───────────────────────────────────────────────────────────────────────────────────────┤2      ├─╫──╫─┤M├───────────────\n",
       "      ├───┤       │              │              │                                                                                       │       │ ║  ║ └╥┘┌─┐            \n",
       " q_3: ┤ H ├───────┼──────────────┼──────────────┼──────────────■────────────────────────────────────────────────────────────────────────┤3      ├─╫──╫──╫─┤M├────────────\n",
       "      ├───┤       │              │              │              │                                                                        │  QFT† │ ║  ║  ║ └╥┘┌─┐         \n",
       " q_4: ┤ H ├───────┼──────────────┼──────────────┼──────────────┼──────────────■─────────────────────────────────────────────────────────┤4      ├─╫──╫──╫──╫─┤M├─────────\n",
       "      ├───┤       │              │              │              │              │                                                         │       │ ║  ║  ║  ║ └╥┘┌─┐      \n",
       " q_5: ┤ H ├───────┼──────────────┼──────────────┼──────────────┼──────────────┼───────────────■─────────────────────────────────────────┤5      ├─╫──╫──╫──╫──╫─┤M├──────\n",
       "      ├───┤       │              │              │              │              │               │                                         │       │ ║  ║  ║  ║  ║ └╥┘┌─┐   \n",
       " q_6: ┤ H ├───────┼──────────────┼──────────────┼──────────────┼──────────────┼───────────────┼───────────────■─────────────────────────┤6      ├─╫──╫──╫──╫──╫──╫─┤M├───\n",
       "      ├───┤       │              │              │              │              │               │               │                         │       │ ║  ║  ║  ║  ║  ║ └╥┘┌─┐\n",
       " q_7: ┤ H ├───────┼──────────────┼──────────────┼──────────────┼──────────────┼───────────────┼───────────────┼────────────────■────────┤7      ├─╫──╫──╫──╫──╫──╫──╫─┤M├\n",
       "      ├───┤┌──────┴──────┐┌──────┴──────┐┌──────┴──────┐┌──────┴──────┐┌──────┴───────┐┌──────┴───────┐┌──────┴───────┐┌───────┴───────┐└───────┘ ║  ║  ║  ║  ║  ║  ║ └╥┘\n",
       " q_8: ┤ X ├┤0            ├┤0            ├┤0            ├┤0            ├┤0             ├┤0             ├┤0             ├┤0              ├──────────╫──╫──╫──╫──╫──╫──╫──╫─\n",
       "      └───┘│             ││             ││             ││             ││              ││              ││              ││               │          ║  ║  ║  ║  ║  ║  ║  ║ \n",
       " q_9: ─────┤1            ├┤1            ├┤1            ├┤1            ├┤1             ├┤1             ├┤1             ├┤1              ├──────────╫──╫──╫──╫──╫──╫──╫──╫─\n",
       "           │  7^1 mod 15 ││  7^2 mod 15 ││  7^4 mod 15 ││  7^8 mod 15 ││  7^16 mod 15 ││  7^32 mod 15 ││  7^64 mod 15 ││  7^128 mod 15 │          ║  ║  ║  ║  ║  ║  ║  ║ \n",
       "q_10: ─────┤2            ├┤2            ├┤2            ├┤2            ├┤2             ├┤2             ├┤2             ├┤2              ├──────────╫──╫──╫──╫──╫──╫──╫──╫─\n",
       "           │             ││             ││             ││             ││              ││              ││              ││               │          ║  ║  ║  ║  ║  ║  ║  ║ \n",
       "q_11: ─────┤3            ├┤3            ├┤3            ├┤3            ├┤3             ├┤3             ├┤3             ├┤3              ├──────────╫──╫──╫──╫──╫──╫──╫──╫─\n",
       "           └─────────────┘└─────────────┘└─────────────┘└─────────────┘└──────────────┘└──────────────┘└──────────────┘└───────────────┘          ║  ║  ║  ║  ║  ║  ║  ║ \n",
       " c: 8/════════════════════════════════════════════════════════════════════════════════════════════════════════════════════════════════════════════╩══╩══╩══╩══╩══╩══╩══╩═\n",
       "                                                                                                                                                  0  1  2  3  4  5  6  7 "
      ]
     },
     "execution_count": 64,
     "metadata": {},
     "output_type": "execute_result"
    }
   ],
   "source": [
    "a = 7\n",
    "N_COUNT_V2 = 8\n",
    "\n",
    "qc = QuantumCircuit(N_COUNT_V2 + 4, N_COUNT_V2)\n",
    "\n",
    "for q in range(N_COUNT_V2):\n",
    "    qc.h(q)\n",
    "\n",
    "qc.x(N_COUNT_V2)\n",
    "\n",
    "for q in range(N_COUNT_V2):\n",
    "    qc.append(c_amod15(a, 2**q),\n",
    "             [q] + [i+N_COUNT_V2 for i in range(4)])\n",
    "\n",
    "qc.append(qft_dagger(N_COUNT_V2), range(N_COUNT_V2))\n",
    "\n",
    "qc.measure(range(N_COUNT_V2), range(N_COUNT_V2))\n",
    "qc.draw(fold=-1)"
   ]
  },
  {
   "cell_type": "code",
   "execution_count": 65,
   "id": "b0d7b218",
   "metadata": {},
   "outputs": [
    {
     "data": {
      "image/png": "[encoded data removed]",
      "text/plain": [
       "<Figure size 640x480 with 1 Axes>"
      ]
     },
     "execution_count": 65,
     "metadata": {},
     "output_type": "execute_result"
    }
   ],
   "source": [
    "counts_v2 = AerSimulator().run(qc.decompose()).result().get_counts()\n",
    "plot_histogram(counts_v2)"
   ]
  },
  {
   "cell_type": "code",
   "execution_count": 66,
   "id": "4aec6df7",
   "metadata": {},
   "outputs": [
    {
     "name": "stdout",
     "output_type": "stream",
     "text": [
      "         Register Output       Phase\n",
      "0  00100(bin) =   4(dec)  4/8 = 0.50\n",
      "1  00110(bin) =   6(dec)  6/8 = 0.75\n",
      "2  00000(bin) =   0(dec)  0/8 = 0.00\n",
      "3  00010(bin) =   2(dec)  2/8 = 0.25\n"
     ]
    }
   ],
   "source": [
    "rows, measured_phases = [], []\n",
    "for output in counts:\n",
    "    decimal = int(output, 2)\n",
    "    phase = decimal/(2**N_COUNT)\n",
    "    measured_phases.append(phase)\n",
    "    rows.append([f\"{output}(bin) = {decimal:>3}(dec)\",\n",
    "                 f\"{decimal}/{2**N_COUNT} = {phase:.2f}\"])\n",
    "headers=[\"Register Output\", \"Phase\"]\n",
    "df = pd.DataFrame(rows, columns=headers)\n",
    "print(df)"
   ]
  },
  {
   "cell_type": "code",
   "execution_count": 76,
   "id": "a4eb16dd",
   "metadata": {},
   "outputs": [
    {
     "name": "stdout",
     "output_type": "stream",
     "text": [
      "Factor: 3\n",
      "Factor: 5\n"
     ]
    }
   ],
   "source": [
    "factors = get_factors(measured_phases, a)\n",
    "\n",
    "if factors:\n",
    "    product = 1\n",
    "    for factor in factors:\n",
    "        print(f\"Factor: {factor}\")"
   ]
  },
  {
   "cell_type": "markdown",
   "id": "446eb577",
   "metadata": {},
   "source": [
    "### Versión general\n",
    "Crear una versión general del algoritmo de shor es algo con lo que he encontrado muchos problemas incluso en libros, también hay recursos que hablan sobre como craer el circuito que represente dicho Uf, finalmente para probar una versión más general del algoritmo, lo que decidi, en vista de la complejidad de la creación de una forma cuantica general, es calcular dicha compuerta de forma clasica, esto claramente limita el número del número que podemos ingresar puesto que la principal ventaja de la versión cuantica es la reducción en la complejidad computacional.\n",
    "\n",
    "<table>\n",
    "  <tr>\n",
    "    <td><img src=\"images/AlgoritmosCuanticos.jpg\" alt=\"Descripción imagen 1\"></td>\n",
    "    <td><img src=\"images/Libro1.jpg\" alt=\"Descripción imagen 2\"></td>\n",
    "  </tr>\n",
    "</table>"
   ]
  },
  {
   "cell_type": "code",
   "execution_count": 145,
   "id": "73e081e2",
   "metadata": {},
   "outputs": [],
   "source": [
    "def c_amodN(a, power, N):\n",
    "    \"\"\"\n",
    "    Forma clasica para generar el oraculo\n",
    "    \"\"\"\n",
    "    if gcd(a, N) != 1:\n",
    "        raise ValueError(f\"a={a} no es coprimo con N={N}\")\n",
    "    \n",
    "    n_size = N.bit_length()\n",
    "    \n",
    "    result_classical = pow(a, power, N)\n",
    "    \n",
    "    dim = 2**n_size\n",
    "    matrix = np.zeros((dim, dim), dtype=complex)\n",
    "    \n",
    "    for x in range(N):\n",
    "        result = (pow(a, power, N) * x) % N\n",
    "        matrix[result, x] = 1.0\n",
    "    \n",
    "    for i in range(N, dim):\n",
    "        matrix[i, i] = 1.0\n",
    "    \n",
    "    op = Operator(matrix)\n",
    "    \n",
    "    gate = op.to_instruction()\n",
    "    gate.name = f\"{a}^{power} mod {N}\"\n",
    "    \n",
    "    c_gate = gate.control(1)\n",
    "    \n",
    "    return c_gate"
   ]
  },
  {
   "cell_type": "code",
   "execution_count": 177,
   "id": "4473aade",
   "metadata": {},
   "outputs": [],
   "source": [
    "# N = int(input(\"Entre el número a factorizar N: \"))\n",
    "N = 39\n",
    "if N > 39:\n",
    "    raise ValueError(\"N debe ser menor o igual a 39 para evitar problemas de rendimiento.\")\n",
    "n_size = N.bit_length()\n",
    "COUNT = 2 * n_size\n",
    "\n",
    "coprimes = [a for a in range(2, N) if gcd(a, N) == 1]\n",
    "\n",
    "max_attempts = 3\n",
    "attempts = 0\n",
    "all_factors = []"
   ]
  },
  {
   "cell_type": "code",
   "execution_count": 178,
   "id": "013ab809",
   "metadata": {},
   "outputs": [
    {
     "name": "stdout",
     "output_type": "stream",
     "text": [
      "Factor: 3\n",
      "Factor: 13\n"
     ]
    }
   ],
   "source": [
    "circuit = None\n",
    "successful_a = None\n",
    "all_factors = []\n",
    "attempts = 0\n",
    "current_coprimes = coprimes.copy()\n",
    "final_counts = None\n",
    "\n",
    "while attempts < max_attempts and not all_factors and current_coprimes:\n",
    "    a = random.choice(current_coprimes)\n",
    "    \n",
    "    qc = QuantumCircuit(COUNT + n_size, COUNT)\n",
    "    \n",
    "    for q in range(COUNT):\n",
    "        qc.h(q)\n",
    "    \n",
    "    qc.x(COUNT)\n",
    "    \n",
    "    for q in range(COUNT):\n",
    "        qc.append(c_amodN(a, 2**q, N),\n",
    "                  [q] + [i+COUNT for i in range(n_size)])\n",
    "    \n",
    "    qc.append(qft_dagger(COUNT), range(COUNT))\n",
    "    \n",
    "    qc.measure(range(COUNT), range(COUNT))\n",
    "    \n",
    "    simulator = AerSimulator()\n",
    "    t_qc = transpile(qc, simulator)\n",
    "    result = simulator.run(t_qc).result()\n",
    "    counts = result.get_counts()\n",
    "    \n",
    "    measured_phases = []\n",
    "    for output in counts:\n",
    "        decimal = int(output, 2)\n",
    "        phase = decimal/(2**COUNT)\n",
    "        measured_phases.append(phase)\n",
    "        \n",
    "    factors = get_factors(measured_phases, a, N)\n",
    "    \n",
    "    if factors:\n",
    "        all_factors = factors\n",
    "        circuit = qc.copy()\n",
    "        successful_a = a\n",
    "        break\n",
    "    else:\n",
    "        current_coprimes.remove(a)  \n",
    "    \n",
    "    attempts += 1\n",
    "\n",
    "if all_factors:\n",
    "    for factor in all_factors:\n",
    "        print(f\"Factor: {factor}\")"
   ]
  },
  {
   "cell_type": "code",
   "execution_count": 179,
   "id": "f403a0da",
   "metadata": {},
   "outputs": [
    {
     "name": "stdout",
     "output_type": "stream",
     "text": [
      "      ┌───┐                                                                                                                                                                                                               ┌────────┐┌─┐                                 \n",
      " q_0: ┤ H ├───────■───────────────────────────────────────────────────────────────────────────────────────────────────────────────────────────────────────────────────────────────────────────────────────────────────────┤0       ├┤M├─────────────────────────────────\n",
      "      ├───┤       │                                                                                                                                                                                                       │        │└╥┘┌─┐                              \n",
      " q_1: ┤ H ├───────┼───────────────■───────────────────────────────────────────────────────────────────────────────────────────────────────────────────────────────────────────────────────────────────────────────────────┤1       ├─╫─┤M├──────────────────────────────\n",
      "      ├───┤       │               │                                                                                                                                                                                       │        │ ║ └╥┘┌─┐                           \n",
      " q_2: ┤ H ├───────┼───────────────┼───────────────■───────────────────────────────────────────────────────────────────────────────────────────────────────────────────────────────────────────────────────────────────────┤2       ├─╫──╫─┤M├───────────────────────────\n",
      "      ├───┤       │               │               │                                                                                                                                                                       │        │ ║  ║ └╥┘┌─┐                        \n",
      " q_3: ┤ H ├───────┼───────────────┼───────────────┼───────────────■───────────────────────────────────────────────────────────────────────────────────────────────────────────────────────────────────────────────────────┤3       ├─╫──╫──╫─┤M├────────────────────────\n",
      "      ├───┤       │               │               │               │                                                                                                                                                       │        │ ║  ║  ║ └╥┘┌─┐                     \n",
      " q_4: ┤ H ├───────┼───────────────┼───────────────┼───────────────┼────────────────■──────────────────────────────────────────────────────────────────────────────────────────────────────────────────────────────────────┤4       ├─╫──╫──╫──╫─┤M├─────────────────────\n",
      "      ├───┤       │               │               │               │                │                                                                                                                                      │        │ ║  ║  ║  ║ └╥┘┌─┐                  \n",
      " q_5: ┤ H ├───────┼───────────────┼───────────────┼───────────────┼────────────────┼────────────────■─────────────────────────────────────────────────────────────────────────────────────────────────────────────────────┤5       ├─╫──╫──╫──╫──╫─┤M├──────────────────\n",
      "      ├───┤       │               │               │               │                │                │                                                                                                                     │   QFT† │ ║  ║  ║  ║  ║ └╥┘┌─┐               \n",
      " q_6: ┤ H ├───────┼───────────────┼───────────────┼───────────────┼────────────────┼────────────────┼────────────────■────────────────────────────────────────────────────────────────────────────────────────────────────┤6       ├─╫──╫──╫──╫──╫──╫─┤M├───────────────\n",
      "      ├───┤       │               │               │               │                │                │                │                                                                                                    │        │ ║  ║  ║  ║  ║  ║ └╥┘┌─┐            \n",
      " q_7: ┤ H ├───────┼───────────────┼───────────────┼───────────────┼────────────────┼────────────────┼────────────────┼────────────────■───────────────────────────────────────────────────────────────────────────────────┤7       ├─╫──╫──╫──╫──╫──╫──╫─┤M├────────────\n",
      "      ├───┤       │               │               │               │                │                │                │                │                                                                                   │        │ ║  ║  ║  ║  ║  ║  ║ └╥┘┌─┐         \n",
      " q_8: ┤ H ├───────┼───────────────┼───────────────┼───────────────┼────────────────┼────────────────┼────────────────┼────────────────┼─────────────────■─────────────────────────────────────────────────────────────────┤8       ├─╫──╫──╫──╫──╫──╫──╫──╫─┤M├─────────\n",
      "      ├───┤       │               │               │               │                │                │                │                │                 │                                                                 │        │ ║  ║  ║  ║  ║  ║  ║  ║ └╥┘┌─┐      \n",
      " q_9: ┤ H ├───────┼───────────────┼───────────────┼───────────────┼────────────────┼────────────────┼────────────────┼────────────────┼─────────────────┼─────────────────■───────────────────────────────────────────────┤9       ├─╫──╫──╫──╫──╫──╫──╫──╫──╫─┤M├──────\n",
      "      ├───┤       │               │               │               │                │                │                │                │                 │                 │                                               │        │ ║  ║  ║  ║  ║  ║  ║  ║  ║ └╥┘┌─┐   \n",
      "q_10: ┤ H ├───────┼───────────────┼───────────────┼───────────────┼────────────────┼────────────────┼────────────────┼────────────────┼─────────────────┼─────────────────┼──────────────────■────────────────────────────┤10      ├─╫──╫──╫──╫──╫──╫──╫──╫──╫──╫─┤M├───\n",
      "      ├───┤       │               │               │               │                │                │                │                │                 │                 │                  │                            │        │ ║  ║  ║  ║  ║  ║  ║  ║  ║  ║ └╥┘┌─┐\n",
      "q_11: ┤ H ├───────┼───────────────┼───────────────┼───────────────┼────────────────┼────────────────┼────────────────┼────────────────┼─────────────────┼─────────────────┼──────────────────┼──────────────────■─────────┤11      ├─╫──╫──╫──╫──╫──╫──╫──╫──╫──╫──╫─┤M├\n",
      "      ├───┤┌──────┴───────┐┌──────┴───────┐┌──────┴───────┐┌──────┴───────┐┌───────┴───────┐┌───────┴───────┐┌───────┴───────┐┌───────┴────────┐┌───────┴────────┐┌───────┴────────┐┌────────┴────────┐┌────────┴────────┐└────────┘ ║  ║  ║  ║  ║  ║  ║  ║  ║  ║  ║ └╥┘\n",
      "q_12: ┤ X ├┤0             ├┤0             ├┤0             ├┤0             ├┤0              ├┤0              ├┤0              ├┤0               ├┤0               ├┤0               ├┤0                ├┤0                ├───────────╫──╫──╫──╫──╫──╫──╫──╫──╫──╫──╫──╫─\n",
      "      └───┘│              ││              ││              ││              ││               ││               ││               ││                ││                ││                ││                 ││                 │           ║  ║  ║  ║  ║  ║  ║  ║  ║  ║  ║  ║ \n",
      "q_13: ─────┤1             ├┤1             ├┤1             ├┤1             ├┤1              ├┤1              ├┤1              ├┤1               ├┤1               ├┤1               ├┤1                ├┤1                ├───────────╫──╫──╫──╫──╫──╫──╫──╫──╫──╫──╫──╫─\n",
      "           │              ││              ││              ││              ││               ││               ││               ││                ││                ││                ││                 ││                 │           ║  ║  ║  ║  ║  ║  ║  ║  ║  ║  ║  ║ \n",
      "q_14: ─────┤2             ├┤2             ├┤2             ├┤2             ├┤2              ├┤2              ├┤2              ├┤2               ├┤2               ├┤2               ├┤2                ├┤2                ├───────────╫──╫──╫──╫──╫──╫──╫──╫──╫──╫──╫──╫─\n",
      "           │  37^1 mod 39 ││  37^2 mod 39 ││  37^4 mod 39 ││  37^8 mod 39 ││  37^16 mod 39 ││  37^32 mod 39 ││  37^64 mod 39 ││  37^128 mod 39 ││  37^256 mod 39 ││  37^512 mod 39 ││  37^1024 mod 39 ││  37^2048 mod 39 │           ║  ║  ║  ║  ║  ║  ║  ║  ║  ║  ║  ║ \n",
      "q_15: ─────┤3             ├┤3             ├┤3             ├┤3             ├┤3              ├┤3              ├┤3              ├┤3               ├┤3               ├┤3               ├┤3                ├┤3                ├───────────╫──╫──╫──╫──╫──╫──╫──╫──╫──╫──╫──╫─\n",
      "           │              ││              ││              ││              ││               ││               ││               ││                ││                ││                ││                 ││                 │           ║  ║  ║  ║  ║  ║  ║  ║  ║  ║  ║  ║ \n",
      "q_16: ─────┤4             ├┤4             ├┤4             ├┤4             ├┤4              ├┤4              ├┤4              ├┤4               ├┤4               ├┤4               ├┤4                ├┤4                ├───────────╫──╫──╫──╫──╫──╫──╫──╫──╫──╫──╫──╫─\n",
      "           │              ││              ││              ││              ││               ││               ││               ││                ││                ││                ││                 ││                 │           ║  ║  ║  ║  ║  ║  ║  ║  ║  ║  ║  ║ \n",
      "q_17: ─────┤5             ├┤5             ├┤5             ├┤5             ├┤5              ├┤5              ├┤5              ├┤5               ├┤5               ├┤5               ├┤5                ├┤5                ├───────────╫──╫──╫──╫──╫──╫──╫──╫──╫──╫──╫──╫─\n",
      "           └──────────────┘└──────────────┘└──────────────┘└──────────────┘└───────────────┘└───────────────┘└───────────────┘└────────────────┘└────────────────┘└────────────────┘└─────────────────┘└─────────────────┘           ║  ║  ║  ║  ║  ║  ║  ║  ║  ║  ║  ║ \n",
      "c: 12/═══════════════════════════════════════════════════════════════════════════════════════════════════════════════════════════════════════════════════════════════════════════════════════════════════════════════════════════════╩══╩══╩══╩══╩══╩══╩══╩══╩══╩══╩══╩═\n",
      "                                                                                                                                                                                                                                     0  1  2  3  4  5  6  7  8  9  10 11\n"
     ]
    }
   ],
   "source": [
    "if circuit:\n",
    "    print(circuit.draw(fold=-1))\n"
   ]
  }
 ],
 "metadata": {
  "kernelspec": {
   "display_name": "venv",
   "language": "python",
   "name": "python3"
  },
  "language_info": {
   "codemirror_mode": {
    "name": "ipython",
    "version": 3
   },
   "file_extension": ".py",
   "mimetype": "text/x-python",
   "name": "python",
   "nbconvert_exporter": "python",
   "pygments_lexer": "ipython3",
   "version": "3.12.5"
  }
 },
 "nbformat": 4,
 "nbformat_minor": 5
}
