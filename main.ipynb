{
 "cells": [
  {
   "cell_type": "markdown",
   "id": "019c6ea8",
   "metadata": {},
   "source": [
    "### Versión funcional del [`algoritmo de shor`](https://github.com/Qiskit/textbook/blob/main/notebooks/ch-algorithms/shor.ipynb) en la versión actual\n",
    "Se hicieron cambios principalmente en el acceso a diferentes funcionalidades de la librería de qiskit, por ejemplo para hacer uso del simulador Aer, el cual cambió con respecto al usado originalmente en el código."
   ]
  },
  {
   "cell_type": "code",
   "execution_count": 35,
   "id": "b20cc4c2",
   "metadata": {},
   "outputs": [],
   "source": [
    "import numpy as np\n",
    "import matplotlib.pyplot as plt\n",
    "import pandas as pd\n",
    "import random\n",
    "\n",
    "from qiskit import QuantumCircuit, transpile\n",
    "from qiskit_aer import AerSimulator\n",
    "from qiskit.visualization import plot_histogram\n",
    "from qiskit.quantum_info import Operator\n",
    "\n",
    "from math import gcd\n",
    "from fractions import Fraction"
   ]
  },
  {
   "cell_type": "code",
   "execution_count": 6,
   "id": "7fc9e851",
   "metadata": {},
   "outputs": [],
   "source": [
    "def c_amod15(a, power):\n",
    "    \"\"\"Controlled multiplication by a mod 15\"\"\"\n",
    "    if a not in [2,4,7,8,11,13]:\n",
    "        raise ValueError(\"'a' must be 2,4,7,8,11 or 13\")\n",
    "    U = QuantumCircuit(4)\n",
    "    for _iteration in range(power):\n",
    "        if a in [2,13]:\n",
    "            U.swap(2,3)\n",
    "            U.swap(1,2)\n",
    "            U.swap(0,1)\n",
    "        if a in [7,8]:\n",
    "            U.swap(0,1)\n",
    "            U.swap(1,2)\n",
    "            U.swap(2,3)\n",
    "        if a in [4, 11]:\n",
    "            U.swap(1,3)\n",
    "            U.swap(0,2)\n",
    "        if a in [7,11,13]:\n",
    "            for q in range(4):\n",
    "                U.x(q)\n",
    "    U = U.to_gate()\n",
    "    U.name = f\"{a}^{power} mod 15\"\n",
    "    c_U = U.control()\n",
    "    return c_U"
   ]
  },
  {
   "cell_type": "code",
   "execution_count": 7,
   "id": "a0665282",
   "metadata": {},
   "outputs": [],
   "source": [
    "N_COUNT = 8\n",
    "a = 7"
   ]
  },
  {
   "cell_type": "code",
   "execution_count": 8,
   "id": "ec2a6200",
   "metadata": {},
   "outputs": [],
   "source": [
    "def qft_dagger(n):\n",
    "    \"\"\"n-qubit QFTdagger the first n qubits in circ\"\"\"\n",
    "    qc = QuantumCircuit(n)\n",
    "    # Don't forget the Swaps!\n",
    "    for qubit in range(n//2):\n",
    "        qc.swap(qubit, n-qubit-1)\n",
    "    for j in range(n):\n",
    "        for m in range(j):\n",
    "            qc.cp(-np.pi/float(2**(j-m)), m, j)\n",
    "        qc.h(j)\n",
    "    qc.name = \"QFT†\"\n",
    "    return qc"
   ]
  },
  {
   "cell_type": "code",
   "execution_count": 9,
   "id": "df55c67f",
   "metadata": {},
   "outputs": [
    {
     "data": {
      "text/html": [
       "<pre style=\"word-wrap: normal;white-space: pre;background: #fff0;line-height: 1.1;font-family: &quot;Courier New&quot;,Courier,monospace\">      ┌───┐                                                                                                                             ┌───────┐┌─┐                     \n",
       " q_0: ┤ H ├───────■─────────────────────────────────────────────────────────────────────────────────────────────────────────────────────┤0      ├┤M├─────────────────────\n",
       "      ├───┤       │                                                                                                                     │       │└╥┘┌─┐                  \n",
       " q_1: ┤ H ├───────┼──────────────■──────────────────────────────────────────────────────────────────────────────────────────────────────┤1      ├─╫─┤M├──────────────────\n",
       "      ├───┤       │              │                                                                                                      │       │ ║ └╥┘┌─┐               \n",
       " q_2: ┤ H ├───────┼──────────────┼──────────────■───────────────────────────────────────────────────────────────────────────────────────┤2      ├─╫──╫─┤M├───────────────\n",
       "      ├───┤       │              │              │                                                                                       │       │ ║  ║ └╥┘┌─┐            \n",
       " q_3: ┤ H ├───────┼──────────────┼──────────────┼──────────────■────────────────────────────────────────────────────────────────────────┤3      ├─╫──╫──╫─┤M├────────────\n",
       "      ├───┤       │              │              │              │                                                                        │  QFT† │ ║  ║  ║ └╥┘┌─┐         \n",
       " q_4: ┤ H ├───────┼──────────────┼──────────────┼──────────────┼──────────────■─────────────────────────────────────────────────────────┤4      ├─╫──╫──╫──╫─┤M├─────────\n",
       "      ├───┤       │              │              │              │              │                                                         │       │ ║  ║  ║  ║ └╥┘┌─┐      \n",
       " q_5: ┤ H ├───────┼──────────────┼──────────────┼──────────────┼──────────────┼───────────────■─────────────────────────────────────────┤5      ├─╫──╫──╫──╫──╫─┤M├──────\n",
       "      ├───┤       │              │              │              │              │               │                                         │       │ ║  ║  ║  ║  ║ └╥┘┌─┐   \n",
       " q_6: ┤ H ├───────┼──────────────┼──────────────┼──────────────┼──────────────┼───────────────┼───────────────■─────────────────────────┤6      ├─╫──╫──╫──╫──╫──╫─┤M├───\n",
       "      ├───┤       │              │              │              │              │               │               │                         │       │ ║  ║  ║  ║  ║  ║ └╥┘┌─┐\n",
       " q_7: ┤ H ├───────┼──────────────┼──────────────┼──────────────┼──────────────┼───────────────┼───────────────┼────────────────■────────┤7      ├─╫──╫──╫──╫──╫──╫──╫─┤M├\n",
       "      ├───┤┌──────┴──────┐┌──────┴──────┐┌──────┴──────┐┌──────┴──────┐┌──────┴───────┐┌──────┴───────┐┌──────┴───────┐┌───────┴───────┐└───────┘ ║  ║  ║  ║  ║  ║  ║ └╥┘\n",
       " q_8: ┤ X ├┤0            ├┤0            ├┤0            ├┤0            ├┤0             ├┤0             ├┤0             ├┤0              ├──────────╫──╫──╫──╫──╫──╫──╫──╫─\n",
       "      └───┘│             ││             ││             ││             ││              ││              ││              ││               │          ║  ║  ║  ║  ║  ║  ║  ║ \n",
       " q_9: ─────┤1            ├┤1            ├┤1            ├┤1            ├┤1             ├┤1             ├┤1             ├┤1              ├──────────╫──╫──╫──╫──╫──╫──╫──╫─\n",
       "           │  7^1 mod 15 ││  7^2 mod 15 ││  7^4 mod 15 ││  7^8 mod 15 ││  7^16 mod 15 ││  7^32 mod 15 ││  7^64 mod 15 ││  7^128 mod 15 │          ║  ║  ║  ║  ║  ║  ║  ║ \n",
       "q_10: ─────┤2            ├┤2            ├┤2            ├┤2            ├┤2             ├┤2             ├┤2             ├┤2              ├──────────╫──╫──╫──╫──╫──╫──╫──╫─\n",
       "           │             ││             ││             ││             ││              ││              ││              ││               │          ║  ║  ║  ║  ║  ║  ║  ║ \n",
       "q_11: ─────┤3            ├┤3            ├┤3            ├┤3            ├┤3             ├┤3             ├┤3             ├┤3              ├──────────╫──╫──╫──╫──╫──╫──╫──╫─\n",
       "           └─────────────┘└─────────────┘└─────────────┘└─────────────┘└──────────────┘└──────────────┘└──────────────┘└───────────────┘          ║  ║  ║  ║  ║  ║  ║  ║ \n",
       " c: 8/════════════════════════════════════════════════════════════════════════════════════════════════════════════════════════════════════════════╩══╩══╩══╩══╩══╩══╩══╩═\n",
       "                                                                                                                                                  0  1  2  3  4  5  6  7 </pre>"
      ],
      "text/plain": [
       "      ┌───┐                                                                                                                             ┌───────┐┌─┐                     \n",
       " q_0: ┤ H ├───────■─────────────────────────────────────────────────────────────────────────────────────────────────────────────────────┤0      ├┤M├─────────────────────\n",
       "      ├───┤       │                                                                                                                     │       │└╥┘┌─┐                  \n",
       " q_1: ┤ H ├───────┼──────────────■──────────────────────────────────────────────────────────────────────────────────────────────────────┤1      ├─╫─┤M├──────────────────\n",
       "      ├───┤       │              │                                                                                                      │       │ ║ └╥┘┌─┐               \n",
       " q_2: ┤ H ├───────┼──────────────┼──────────────■───────────────────────────────────────────────────────────────────────────────────────┤2      ├─╫──╫─┤M├───────────────\n",
       "      ├───┤       │              │              │                                                                                       │       │ ║  ║ └╥┘┌─┐            \n",
       " q_3: ┤ H ├───────┼──────────────┼──────────────┼──────────────■────────────────────────────────────────────────────────────────────────┤3      ├─╫──╫──╫─┤M├────────────\n",
       "      ├───┤       │              │              │              │                                                                        │  QFT† │ ║  ║  ║ └╥┘┌─┐         \n",
       " q_4: ┤ H ├───────┼──────────────┼──────────────┼──────────────┼──────────────■─────────────────────────────────────────────────────────┤4      ├─╫──╫──╫──╫─┤M├─────────\n",
       "      ├───┤       │              │              │              │              │                                                         │       │ ║  ║  ║  ║ └╥┘┌─┐      \n",
       " q_5: ┤ H ├───────┼──────────────┼──────────────┼──────────────┼──────────────┼───────────────■─────────────────────────────────────────┤5      ├─╫──╫──╫──╫──╫─┤M├──────\n",
       "      ├───┤       │              │              │              │              │               │                                         │       │ ║  ║  ║  ║  ║ └╥┘┌─┐   \n",
       " q_6: ┤ H ├───────┼──────────────┼──────────────┼──────────────┼──────────────┼───────────────┼───────────────■─────────────────────────┤6      ├─╫──╫──╫──╫──╫──╫─┤M├───\n",
       "      ├───┤       │              │              │              │              │               │               │                         │       │ ║  ║  ║  ║  ║  ║ └╥┘┌─┐\n",
       " q_7: ┤ H ├───────┼──────────────┼──────────────┼──────────────┼──────────────┼───────────────┼───────────────┼────────────────■────────┤7      ├─╫──╫──╫──╫──╫──╫──╫─┤M├\n",
       "      ├───┤┌──────┴──────┐┌──────┴──────┐┌──────┴──────┐┌──────┴──────┐┌──────┴───────┐┌──────┴───────┐┌──────┴───────┐┌───────┴───────┐└───────┘ ║  ║  ║  ║  ║  ║  ║ └╥┘\n",
       " q_8: ┤ X ├┤0            ├┤0            ├┤0            ├┤0            ├┤0             ├┤0             ├┤0             ├┤0              ├──────────╫──╫──╫──╫──╫──╫──╫──╫─\n",
       "      └───┘│             ││             ││             ││             ││              ││              ││              ││               │          ║  ║  ║  ║  ║  ║  ║  ║ \n",
       " q_9: ─────┤1            ├┤1            ├┤1            ├┤1            ├┤1             ├┤1             ├┤1             ├┤1              ├──────────╫──╫──╫──╫──╫──╫──╫──╫─\n",
       "           │  7^1 mod 15 ││  7^2 mod 15 ││  7^4 mod 15 ││  7^8 mod 15 ││  7^16 mod 15 ││  7^32 mod 15 ││  7^64 mod 15 ││  7^128 mod 15 │          ║  ║  ║  ║  ║  ║  ║  ║ \n",
       "q_10: ─────┤2            ├┤2            ├┤2            ├┤2            ├┤2             ├┤2             ├┤2             ├┤2              ├──────────╫──╫──╫──╫──╫──╫──╫──╫─\n",
       "           │             ││             ││             ││             ││              ││              ││              ││               │          ║  ║  ║  ║  ║  ║  ║  ║ \n",
       "q_11: ─────┤3            ├┤3            ├┤3            ├┤3            ├┤3             ├┤3             ├┤3             ├┤3              ├──────────╫──╫──╫──╫──╫──╫──╫──╫─\n",
       "           └─────────────┘└─────────────┘└─────────────┘└─────────────┘└──────────────┘└──────────────┘└──────────────┘└───────────────┘          ║  ║  ║  ║  ║  ║  ║  ║ \n",
       " c: 8/════════════════════════════════════════════════════════════════════════════════════════════════════════════════════════════════════════════╩══╩══╩══╩══╩══╩══╩══╩═\n",
       "                                                                                                                                                  0  1  2  3  4  5  6  7 "
      ]
     },
     "execution_count": 9,
     "metadata": {},
     "output_type": "execute_result"
    }
   ],
   "source": [
    "qc = QuantumCircuit(N_COUNT + 4, N_COUNT)\n",
    "\n",
    "# in state |+>\n",
    "for q in range(N_COUNT):\n",
    "    qc.h(q)\n",
    "\n",
    "# And auxiliary register in state |1>\n",
    "qc.x(N_COUNT)\n",
    "\n",
    "# Do controlled-U operations\n",
    "for q in range(N_COUNT):\n",
    "    qc.append(c_amod15(a, 2**q),\n",
    "             [q] + [i+N_COUNT for i in range(4)])\n",
    "\n",
    "# Do inverse-QFT\n",
    "qc.append(qft_dagger(N_COUNT), range(N_COUNT))\n",
    "\n",
    "# Measure circuit\n",
    "qc.measure(range(N_COUNT), range(N_COUNT))\n",
    "qc.draw(fold=-1)  # -1 means 'do not fold'"
   ]
  },
  {
   "cell_type": "code",
   "execution_count": null,
   "id": "c3ded32c",
   "metadata": {},
   "outputs": [
    {
     "data": {
      "image/png": "[encoded data removed]",
      "text/plain": [
       "<Figure size 640x480 with 1 Axes>"
      ]
     },
     "execution_count": 16,
     "metadata": {},
     "output_type": "execute_result"
    }
   ],
   "source": [
    "counts = AerSimulator().run(qc.decompose()).result().get_counts()\n",
    "plot_histogram(counts)\n",
    "\n",
    "# aer_sim = Aer.get_backend('aer_simulator')\n",
    "# t_qc = transpile(qc, aer_sim)\n",
    "# counts = aer_sim.run(t_qc).result().get_counts()\n"
   ]
  },
  {
   "cell_type": "code",
   "execution_count": 15,
   "id": "7aa6bcf1",
   "metadata": {},
   "outputs": [
    {
     "name": "stdout",
     "output_type": "stream",
     "text": [
      "            Register Output           Phase\n",
      "0  10000000(bin) = 128(dec)  128/256 = 0.50\n",
      "1  11000000(bin) = 192(dec)  192/256 = 0.75\n",
      "2  01000000(bin) =  64(dec)   64/256 = 0.25\n",
      "3  00000000(bin) =   0(dec)    0/256 = 0.00\n"
     ]
    }
   ],
   "source": [
    "rows, measured_phases = [], []\n",
    "for output in counts:\n",
    "    decimal = int(output, 2)\n",
    "    phase = decimal/(2**N_COUNT)\n",
    "    measured_phases.append(phase)\n",
    "    rows.append([f\"{output}(bin) = {decimal:>3}(dec)\",\n",
    "                 f\"{decimal}/{2**N_COUNT} = {phase:.2f}\"])\n",
    "headers=[\"Register Output\", \"Phase\"]\n",
    "df = pd.DataFrame(rows, columns=headers)\n",
    "print(df)"
   ]
  },
  {
   "cell_type": "code",
   "execution_count": 19,
   "id": "9d01c2f8",
   "metadata": {},
   "outputs": [
    {
     "name": "stdout",
     "output_type": "stream",
     "text": [
      "Factor: 3\n",
      "Factor: 5\n"
     ]
    }
   ],
   "source": [
    "def get_factors(measured_phases, a, N=15):\n",
    "    factors_found = []\n",
    "    \n",
    "    for phase in measured_phases:\n",
    "        frac = Fraction(phase).limit_denominator(N)\n",
    "        r = frac.denominator\n",
    "        \n",
    "        if r % 2 == 0:\n",
    "            guesses = [gcd(a**(r//2) - 1, N), gcd(a**(r//2) + 1, N)]\n",
    "            \n",
    "            for guess in guesses:\n",
    "                if guess not in [1, N] and guess not in factors_found:\n",
    "                    if N % guess == 0:\n",
    "                        factors_found.append(guess)\n",
    "                        factors_found.append(N // guess)\n",
    "    \n",
    "    factors_found = sorted(list(set(factors_found)))\n",
    "    \n",
    "    if not factors_found:\n",
    "        print(\"No se encontraron factores.\")\n",
    "    \n",
    "    return factors_found\n",
    "\n",
    "factors = get_factors(measured_phases, a)\n",
    "\n",
    "if factors:\n",
    "    product = 1\n",
    "    for factor in factors:\n",
    "        print(f\"Factor: {factor}\")"
   ]
  },
  {
   "cell_type": "markdown",
   "id": "446eb577",
   "metadata": {},
   "source": [
    "### Versión general\n",
    "Crear una versión general del algoritmo de shor es algo con lo que he encontrado muchos problemas incluso en libros, también hay recursos que hablan sobre como craer el circuito que represente dicho Uf, finalmente para probar una versión más general del algoritmo, lo que decidi, en vista de la complejidad de la creación de una forma cuantica general, es calcular dicha compuerta de forma clasica, esto claramente limita el número del número que podemos ingresar puesto que la principal ventaja de la versión cuantica es la reducción en la complejidad computacional.\n",
    "\n",
    "<table>\n",
    "  <tr>\n",
    "    <td><img src=\"images/AlgoritmosCuanticos.jpg\" alt=\"Descripción imagen 1\"></td>\n",
    "    <td><img src=\"images/Libro1.jpg\" alt=\"Descripción imagen 2\"></td>\n",
    "  </tr>\n",
    "</table>"
   ]
  },
  {
   "cell_type": "code",
   "execution_count": null,
   "id": "82b7a4e5",
   "metadata": {},
   "outputs": [],
   "source": [
    "def c_amodN(a, power, N):\n",
    "    if gcd(a, N) != 1:\n",
    "        raise ValueError(f\"a={a} y N={N} no son coprimos\")\n",
    "    \n",
    "    n_count = max(3, N.bit_length())\n",
    "    \n",
    "    qc = QuantumCircuit(n_count, name=f\"{a}^{power} mod {N}\")\n",
    "    \n",
    "    permutation = {}\n",
    "    for x in range(N):\n",
    "        result = (pow(a, power, N) * x) % N\n",
    "        permutation[x] = result\n",
    "    \n",
    "    dim = 2**n_count\n",
    "    matrix = np.zeros((dim, dim), dtype=complex)\n",
    "    \n",
    "    for i in range(N):\n",
    "        matrix[permutation[i], i] = 1.0\n",
    "    \n",
    "    for i in range(N, dim):\n",
    "        matrix[i, i] = 1.0\n",
    "    \n",
    "    op = Operator(matrix)\n",
    "    gate = op.to_instruction()\n",
    "    gate.name = f\"{a}^{power} mod {N}\"\n",
    "    \n",
    "    c_U = gate.control(1)\n",
    "    \n",
    "    return c_U"
   ]
  },
  {
   "cell_type": "code",
   "execution_count": null,
   "id": "c8e16662",
   "metadata": {},
   "outputs": [],
   "source": [
    "def shor_factorize_general(N, a=None, max_attempts=3):\n",
    "    \n",
    "    if N <= 1:\n",
    "        return [N]\n",
    "    \n",
    "    if N % 2 == 0:\n",
    "        return [2, N//2]\n",
    "    \n",
    "    from sympy import isprime\n",
    "    if isprime(N):\n",
    "        print(f\"{N} es un número primo.\")\n",
    "        return [N]\n",
    "    \n",
    "    n_size = N.bit_length()\n",
    "    \n",
    "    N_COUNT = 2 * n_size\n",
    "    \n",
    "    attempts = 0\n",
    "    all_factors = []\n",
    "    \n",
    "    coprimos = [num for num in range(2, N) if gcd(num, N) == 1]\n",
    "    if not coprimos:\n",
    "        print(f\"Error: No se encontraron valores coprimos con {N}\")\n",
    "        return [N]\n",
    "    \n",
    "    print(f\"Valores coprimos con {N}: {coprimos if len(coprimos) < 20 else len(coprimos)}\")\n",
    "    \n",
    "    while attempts < max_attempts and not all_factors:\n",
    "        if a is None:\n",
    "            a = random.choice(coprimos)\n",
    "            if gcd(a, N) != 1:\n",
    "                print(f\"Error: a={a} no es coprimo con N={N}. MCD({a},{N})={gcd(a,N)}\")\n",
    "                continue\n",
    "        else:\n",
    "            if gcd(a, N) != 1:\n",
    "                print(f\"Error: El valor proporcionado a={a} no es coprimo con N={N}.\")\n",
    "                print(\"Seleccionando un valor aleatorio coprimo...\")\n",
    "                a = random.choice(coprimos)\n",
    "        \n",
    "        print(f\"\\nIntento {attempts+1}: Usando a = {a} (verificado coprimo con {N})\")\n",
    "        \n",
    "        qc = QuantumCircuit(N_COUNT + n_size, N_COUNT)\n",
    "        \n",
    "        for q in range(N_COUNT):\n",
    "            qc.h(q)\n",
    "        \n",
    "        qc.x(N_COUNT)\n",
    "        \n",
    "        for q in range(N_COUNT):\n",
    "            try:\n",
    "                if gcd(a, N) != 1:\n",
    "                    raise ValueError(f\"a={a} y N={N} no son coprimos\")\n",
    "                qc.append(c_amodN(a, 2**q, N),\n",
    "                         [q] + [i+N_COUNT for i in range(n_size)])\n",
    "            except Exception as e:\n",
    "                print(f\"Error al crear el circuito: {e}\")\n",
    "                a = None\n",
    "                break\n",
    "        \n",
    "        if a is None:\n",
    "            continue\n",
    "        \n",
    "        qc.append(qft_dagger(N_COUNT), range(N_COUNT))\n",
    "        \n",
    "        qc.measure(range(N_COUNT), range(N_COUNT))\n",
    "        \n",
    "        print(\"Ejecutando circuito cuántico...\")\n",
    "        \n",
    "        simulator = AerSimulator()\n",
    "        t_qc = transpile(qc, simulator)\n",
    "        result = simulator.run(t_qc).result()\n",
    "        counts = result.get_counts()\n",
    "        \n",
    "        print(\"Procesando resultados de medición...\")\n",
    "        \n",
    "        measured_phases = []\n",
    "        for output in counts:\n",
    "            decimal = int(output, 2)\n",
    "            phase = decimal/(2**N_COUNT)\n",
    "            measured_phases.append(phase)\n",
    "        \n",
    "        print(f\"Fases medidas: {[(f'{phase:.4f}') for phase in measured_phases[:10]]}\" + \n",
    "              (\"...\" if len(measured_phases) > 10 else \"\"))\n",
    "        \n",
    "        factors = get_factors(measured_phases, a, N)\n",
    "        if factors:\n",
    "            all_factors = factors\n",
    "            print(f\"¡Factores encontrados!: {all_factors}\")\n",
    "        else:\n",
    "            print(\"No se encontraron factores en este intento.\")\n",
    "            if a in coprimos:\n",
    "                coprimos.remove(a)\n",
    "            a = None\n",
    "            if not coprimos:\n",
    "                print(\"¡Se han agotado todos los valores coprimos disponibles!\")\n",
    "                break\n",
    "        \n",
    "        attempts += 1\n",
    "    \n",
    "    if all_factors:\n",
    "        print(f\"\\n¡Éxito! Factorización de {N}: {all_factors}\")\n",
    "        product = 1\n",
    "        for factor in all_factors:\n",
    "            product *= factor\n",
    "        print(f\"Verificación: {' × '.join(map(str, all_factors))} = {product} {'✓' if product == N else '✗'}\")\n",
    "    else:\n",
    "        print(f\"\\nNo se pudo factorizar {N} después de {max_attempts} intentos.\")\n",
    "    \n",
    "    return all_factors"
   ]
  },
  {
   "cell_type": "code",
   "execution_count": 39,
   "id": "4473aade",
   "metadata": {},
   "outputs": [
    {
     "name": "stdout",
     "output_type": "stream",
     "text": [
      "Valores coprimos con 39: 23\n",
      "\n",
      "Intento 1: Usando a = 2 (verificado coprimo con 39)\n",
      "Ejecutando circuito cuántico...\n",
      "Procesando resultados de medición...\n",
      "Fases medidas: ['0.0815', '0.1660', '0.6653', '0.4170', '0.5840', '0.0713', '0.0852', '0.0825', '0.5833', '0.5837']...\n",
      "¡Factores encontrados!: [3, 13]\n",
      "\n",
      "¡Éxito! Factorización de 39: [3, 13]\n",
      "Verificación: 3 × 13 = 39 ✓\n"
     ]
    },
    {
     "data": {
      "text/plain": [
       "[3, 13]"
      ]
     },
     "execution_count": 39,
     "metadata": {},
     "output_type": "execute_result"
    }
   ],
   "source": [
    "shor_factorize_general(39, max_attempts=10)"
   ]
  }
 ],
 "metadata": {
  "kernelspec": {
   "display_name": "venv",
   "language": "python",
   "name": "python3"
  },
  "language_info": {
   "codemirror_mode": {
    "name": "ipython",
    "version": 3
   },
   "file_extension": ".py",
   "mimetype": "text/x-python",
   "name": "python",
   "nbconvert_exporter": "python",
   "pygments_lexer": "ipython3",
   "version": "3.12.5"
  }
 },
 "nbformat": 4,
 "nbformat_minor": 5
}
